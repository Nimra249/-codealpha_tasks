{
 "cells": [
  {
   "cell_type": "code",
   "execution_count": null,
   "id": "ba93aebe-6ade-4d70-b392-6e2e9ce3b8eb",
   "metadata": {},
   "outputs": [],
   "source": []
  },
  {
   "cell_type": "code",
   "execution_count": 1,
   "id": "e8d92d49-4671-424d-83ad-3a9c994ed425",
   "metadata": {},
   "outputs": [
    {
     "name": "stdout",
     "output_type": "stream",
     "text": [
      "Welcome to Hangman!\n",
      "Guess the word, one letter at a time.\n",
      "You have 6 chances to guess wrong.\n",
      "\n",
      "Word: _ _ _ _ _\n",
      "Wrong guesses left: 6\n"
     ]
    },
    {
     "name": "stdin",
     "output_type": "stream",
     "text": [
      "Enter a letter:  a\n"
     ]
    },
    {
     "name": "stdout",
     "output_type": "stream",
     "text": [
      "Good guess!\n",
      "\n",
      "Word: _ _ a _ _\n",
      "Wrong guesses left: 6\n"
     ]
    },
    {
     "name": "stdin",
     "output_type": "stream",
     "text": [
      "Enter a letter:  a\n"
     ]
    },
    {
     "name": "stdout",
     "output_type": "stream",
     "text": [
      "You already guessed that letter.\n",
      "\n",
      "Word: _ _ a _ _\n",
      "Wrong guesses left: 6\n"
     ]
    },
    {
     "name": "stdin",
     "output_type": "stream",
     "text": [
      "Enter a letter:  e\n"
     ]
    },
    {
     "name": "stdout",
     "output_type": "stream",
     "text": [
      "Wrong guess!\n",
      "\n",
      "Word: _ _ a _ _\n",
      "Wrong guesses left: 5\n"
     ]
    },
    {
     "name": "stdin",
     "output_type": "stream",
     "text": [
      "Enter a letter:  i\n"
     ]
    },
    {
     "name": "stdout",
     "output_type": "stream",
     "text": [
      "Good guess!\n",
      "\n",
      "Word: _ _ a i _\n",
      "Wrong guesses left: 5\n"
     ]
    },
    {
     "name": "stdin",
     "output_type": "stream",
     "text": [
      "Enter a letter:  r\n"
     ]
    },
    {
     "name": "stdout",
     "output_type": "stream",
     "text": [
      "Good guess!\n",
      "\n",
      "Word: _ r a i _\n",
      "Wrong guesses left: 5\n"
     ]
    },
    {
     "name": "stdin",
     "output_type": "stream",
     "text": [
      "Enter a letter:  n\n"
     ]
    },
    {
     "name": "stdout",
     "output_type": "stream",
     "text": [
      "Good guess!\n",
      "\n",
      "Word: _ r a i n\n",
      "Wrong guesses left: 5\n"
     ]
    },
    {
     "name": "stdin",
     "output_type": "stream",
     "text": [
      "Enter a letter:  t\n"
     ]
    },
    {
     "name": "stdout",
     "output_type": "stream",
     "text": [
      "Good guess!\n",
      "\n",
      "Congratulations! You guessed the word: train\n"
     ]
    }
   ],
   "source": [
    "import random\n",
    "\n",
    "# List of predefined words\n",
    "word_list = ['apple', 'train', 'house', 'zebra', 'plant']\n",
    "\n",
    "# Randomly select a word from the list\n",
    "secret_word = random.choice(word_list)\n",
    "guessed_letters = []\n",
    "wrong_guesses = 0\n",
    "max_wrong_guesses = 6\n",
    "\n",
    "# Create the blank version of the word with underscores\n",
    "display_word = ['_'] * len(secret_word)\n",
    "\n",
    "print(\"Welcome to Hangman!\")\n",
    "print(\"Guess the word, one letter at a time.\")\n",
    "print(\"You have 6 chances to guess wrong.\\n\")\n",
    "\n",
    "# Game loop\n",
    "while wrong_guesses < max_wrong_guesses and '_' in display_word:\n",
    "    print(\"Word: \" + ' '.join(display_word))\n",
    "    print(f\"Wrong guesses left: {max_wrong_guesses - wrong_guesses}\")\n",
    "    guess = input(\"Enter a letter: \").lower()\n",
    "\n",
    "    if len(guess) != 1 or not guess.isalpha():\n",
    "        print(\"Please enter a single valid letter.\\n\")\n",
    "        continue\n",
    "\n",
    "    if guess in guessed_letters:\n",
    "        print(\"You already guessed that letter.\\n\")\n",
    "        continue\n",
    "\n",
    "    guessed_letters.append(guess)\n",
    "\n",
    "    if guess in secret_word:\n",
    "        for i in range(len(secret_word)):\n",
    "            if secret_word[i] == guess:\n",
    "                display_word[i] = guess\n",
    "        print(\"Good guess!\\n\")\n",
    "    else:\n",
    "        wrong_guesses += 1\n",
    "        print(\"Wrong guess!\\n\")\n",
    "\n",
    "# Final result\n",
    "if '_' not in display_word:\n",
    "    print(\"Congratulations! You guessed the word:\", secret_word)\n",
    "else:\n",
    "    print(\"Sorry, you've run out of guesses. The word was:\", secret_word)\n"
   ]
  },
  {
   "cell_type": "code",
   "execution_count": null,
   "id": "7c0a625a-5947-4893-a48c-1c04ec423a21",
   "metadata": {},
   "outputs": [
    {
     "name": "stdout",
     "output_type": "stream",
     "text": [
      "📊 Stock Portfolio Tracker\n",
      "Available stocks: AAPL, TSLA, GOOGL, MSFT, AMZN\n",
      "Enter 'done' when you are finished.\n",
      "\n"
     ]
    },
    {
     "name": "stdin",
     "output_type": "stream",
     "text": [
      "Enter stock symbol:  TSLA\n",
      "Enter quantity of TSLA:  45\n"
     ]
    },
    {
     "name": "stdout",
     "output_type": "stream",
     "text": [
      "Added 45 shares of TSLA.\n",
      "\n"
     ]
    }
   ],
   "source": [
    "# Available stiocks are as\n",
    "stock_prices = {\n",
    "    \"AAPL\": 180,\n",
    "    \"TSLA\": 250,\n",
    "    \"GOOGL\": 140,\n",
    "    \"MSFT\": 320,\n",
    "    \"AMZN\": 130\n",
    "}\n",
    "\n",
    "portfolio = {}\n",
    "total_value = 0\n",
    "\n",
    "print(\"📊 Stock Portfolio Tracker\")\n",
    "print(\"Available stocks:\", ', '.join(stock_prices.keys()))\n",
    "print(\"Enter 'done' when you are finished.\\n\")\n",
    "\n",
    "# Taking user input\n",
    "while True:\n",
    "    stock = input(\"Enter stock symbol: \").upper()\n",
    "    if stock == 'DONE':\n",
    "        break\n",
    "    if stock not in stock_prices:\n",
    "        print(\"Stock not found. Please choose from the available list.\\n\")\n",
    "        continue\n",
    "\n",
    "    try:\n",
    "        quantity = int(input(f\"Enter quantity of {stock}: \"))\n",
    "        portfolio[stock] = portfolio.get(stock, 0) + quantity\n",
    "        print(f\"Added {quantity} shares of {stock}.\\n\")\n",
    "    except ValueError:\n",
    "        print(\"Please enter a valid number.\\n\")\n",
    "\n",
    "# Calculating total investment\n",
    "print(\"\\n🧾 Investment Summary:\")\n",
    "for stock, qty in portfolio.items():\n",
    "    value = stock_prices[stock] * qty\n",
    "    total_value += value\n",
    "    print(f\"{stock}: {qty} shares × ${stock_prices[stock]} = ${value}\")\n",
    "\n",
    "print(f\"\\n💰 Total Investment Value: ${total_value}\")\n",
    "\n",
    "# Option to save result\n",
    "save = input(\"\\nDo you want to save this summary to a file? (yes/no): \").lower()\n",
    "if save == 'yes':\n",
    "    with open(\"portfolio_summary.txt\", \"w\") as file:\n",
    "        file.write(\"Stock Portfolio Summary\\n\")\n",
    "        for stock, qty in portfolio.items():\n",
    "            value = stock_prices[stock] * qty\n",
    "            file.write(f\"{stock}: {qty} shares × ${stock_prices[stock]} = ${value}\\n\")\n",
    "        file.write(f\"\\nTotal Investment Value: ${total_value}\\n\")\n",
    "    print(\"✅ Summary saved to 'portfolio_summary.txt'\")\n",
    "else:\n",
    "    print(\"Summary not saved.\")\n"
   ]
  },
  {
   "cell_type": "code",
   "execution_count": null,
   "id": "4b06aaba-9a1a-4404-9d69-1369dafadda4",
   "metadata": {},
   "outputs": [],
   "source": []
  }
 ],
 "metadata": {
  "kernelspec": {
   "display_name": "Python 3 (ipykernel)",
   "language": "python",
   "name": "python3"
  },
  "language_info": {
   "codemirror_mode": {
    "name": "ipython",
    "version": 3
   },
   "file_extension": ".py",
   "mimetype": "text/x-python",
   "name": "python",
   "nbconvert_exporter": "python",
   "pygments_lexer": "ipython3",
   "version": "3.13.0"
  }
 },
 "nbformat": 4,
 "nbformat_minor": 5
}
